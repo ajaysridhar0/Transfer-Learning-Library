{
 "cells": [
  {
   "cell_type": "code",
   "execution_count": 1,
   "id": "17b2993b",
   "metadata": {},
   "outputs": [],
   "source": [
    "def sumcum(x):\n",
    "    total = x[-1]\n",
    "    for i in range(1, len(x)):\n",
    "        total += x[len(x) - 1 -i]\n",
    "        x[len(x) - 1 -i] = total\n",
    "    return x\n",
    "\n",
    "        \n",
    "        "
   ]
  },
  {
   "cell_type": "code",
   "execution_count": 3,
   "id": "97d82d4c",
   "metadata": {},
   "outputs": [
    {
     "data": {
      "text/plain": [
       "[5, 4, 4, 3, 3, 3, 2, 1]"
      ]
     },
     "execution_count": 3,
     "metadata": {},
     "output_type": "execute_result"
    }
   ],
   "source": [
    "sumcum([1, 0, 1, 0, 0, 1, 1, 1])"
   ]
  },
  {
   "cell_type": "code",
   "execution_count": null,
   "id": "0d83c104",
   "metadata": {},
   "outputs": [],
   "source": []
  }
 ],
 "metadata": {
  "kernelspec": {
   "display_name": "Python 3",
   "language": "python",
   "name": "python3"
  },
  "language_info": {
   "codemirror_mode": {
    "name": "ipython",
    "version": 3
   },
   "file_extension": ".py",
   "mimetype": "text/x-python",
   "name": "python",
   "nbconvert_exporter": "python",
   "pygments_lexer": "ipython3",
   "version": "3.7.4"
  }
 },
 "nbformat": 4,
 "nbformat_minor": 5
}
